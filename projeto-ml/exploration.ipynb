{
 "cells": [
  {
   "cell_type": "code",
   "execution_count": 1,
   "id": "d4a7a5e2",
   "metadata": {},
   "outputs": [],
   "source": [
    "import pandas as pd"
   ]
  },
  {
   "cell_type": "code",
   "execution_count": null,
   "id": "e353a572",
   "metadata": {},
   "outputs": [],
   "source": [
    "\n",
    "# Business Understanding:\n",
    "# O objetivo deste projeto é realizar uma análise preditiva utilizando o banco de dados de um condomínio de médio porte.\n",
    "# Serão ilustradas análises simples, como previsão orçamentária mensal, identificação de padrões de inadimplência e simulação de cenários.\n",
    "# O intuito é auxiliar na tomada de decisão financeira, reduzir a inadimplência por meio da identificação antecipada de risco,\n",
    "# além de otimizar a previsão orçamentária e o uso do orçamento.\n",
    "# O banco de dados utilizado é fiel à realidade de um condomínio, porém, para proteger os dados dos moradores,\n",
    "# algumas colunas e valores foram alterados, tornando-o fictício, mas mantendo características de um condomínio real,\n",
    "# incluindo informações sobre moradores, inadimplência, previsão orçamentária e uso do orçamento.\n",
    "# O intuito da análise é auxiliar, síndicos, administradores condominiais e conselhos fiscais na tomada de decisão financeira\n",
    "#Granularidade do dataset, cada linha representa o registro mensal de uma unidade(apartamento ou loja)"
   ]
  },
  {
   "cell_type": "code",
   "execution_count": 33,
   "id": "aa27ba22",
   "metadata": {},
   "outputs": [
    {
     "data": {
      "application/vnd.microsoft.datawrangler.viewer.v0+json": {
       "columns": [
        {
         "name": "index",
         "rawType": "int64",
         "type": "integer"
        },
        {
         "name": "data",
         "rawType": "object",
         "type": "string"
        },
        {
         "name": "unidade_id",
         "rawType": "object",
         "type": "string"
        },
        {
         "name": "tipo_unidade",
         "rawType": "object",
         "type": "string"
        },
        {
         "name": "metragem",
         "rawType": "int64",
         "type": "integer"
        },
        {
         "name": "valor_cota",
         "rawType": "float64",
         "type": "float"
        },
        {
         "name": "pagou",
         "rawType": "bool",
         "type": "boolean"
        },
        {
         "name": "dias_atraso",
         "rawType": "int64",
         "type": "integer"
        },
        {
         "name": "valor_pago",
         "rawType": "float64",
         "type": "float"
        },
        {
         "name": "despesa_total",
         "rawType": "float64",
         "type": "float"
        },
        {
         "name": "obra_extraordinaria",
         "rawType": "float64",
         "type": "float"
        }
       ],
       "ref": "6f0f77bb-68d4-47f7-a986-33bcb9469b79",
       "rows": [
        [
         "0",
         "2020-01-01",
         "Apt001",
         "apartamento",
         "39",
         "556.45",
         "True",
         "0",
         "556.45",
         "33048.31668725768",
         "0.0"
        ],
        [
         "1",
         "2020-01-01",
         "Apt002",
         "apartamento",
         "55",
         "619.22",
         "True",
         "0",
         "619.22",
         "33048.31668725768",
         "0.0"
        ],
        [
         "2",
         "2020-01-01",
         "Apt003",
         "apartamento",
         "39",
         "568.89",
         "True",
         "0",
         "568.89",
         "33048.31668725768",
         "0.0"
        ],
        [
         "3",
         "2020-01-01",
         "Apt004",
         "apartamento",
         "39",
         "572.01",
         "True",
         "0",
         "572.01",
         "33048.31668725768",
         "0.0"
        ],
        [
         "4",
         "2020-01-01",
         "Apt005",
         "apartamento",
         "39",
         "575.91",
         "False",
         "30",
         "243.17",
         "33048.31668725768",
         "0.0"
        ]
       ],
       "shape": {
        "columns": 10,
        "rows": 5
       }
      },
      "text/html": [
       "<div>\n",
       "<style scoped>\n",
       "    .dataframe tbody tr th:only-of-type {\n",
       "        vertical-align: middle;\n",
       "    }\n",
       "\n",
       "    .dataframe tbody tr th {\n",
       "        vertical-align: top;\n",
       "    }\n",
       "\n",
       "    .dataframe thead th {\n",
       "        text-align: right;\n",
       "    }\n",
       "</style>\n",
       "<table border=\"1\" class=\"dataframe\">\n",
       "  <thead>\n",
       "    <tr style=\"text-align: right;\">\n",
       "      <th></th>\n",
       "      <th>data</th>\n",
       "      <th>unidade_id</th>\n",
       "      <th>tipo_unidade</th>\n",
       "      <th>metragem</th>\n",
       "      <th>valor_cota</th>\n",
       "      <th>pagou</th>\n",
       "      <th>dias_atraso</th>\n",
       "      <th>valor_pago</th>\n",
       "      <th>despesa_total</th>\n",
       "      <th>obra_extraordinaria</th>\n",
       "    </tr>\n",
       "  </thead>\n",
       "  <tbody>\n",
       "    <tr>\n",
       "      <th>0</th>\n",
       "      <td>2020-01-01</td>\n",
       "      <td>Apt001</td>\n",
       "      <td>apartamento</td>\n",
       "      <td>39</td>\n",
       "      <td>556.45</td>\n",
       "      <td>True</td>\n",
       "      <td>0</td>\n",
       "      <td>556.45</td>\n",
       "      <td>33048.316687</td>\n",
       "      <td>0.0</td>\n",
       "    </tr>\n",
       "    <tr>\n",
       "      <th>1</th>\n",
       "      <td>2020-01-01</td>\n",
       "      <td>Apt002</td>\n",
       "      <td>apartamento</td>\n",
       "      <td>55</td>\n",
       "      <td>619.22</td>\n",
       "      <td>True</td>\n",
       "      <td>0</td>\n",
       "      <td>619.22</td>\n",
       "      <td>33048.316687</td>\n",
       "      <td>0.0</td>\n",
       "    </tr>\n",
       "    <tr>\n",
       "      <th>2</th>\n",
       "      <td>2020-01-01</td>\n",
       "      <td>Apt003</td>\n",
       "      <td>apartamento</td>\n",
       "      <td>39</td>\n",
       "      <td>568.89</td>\n",
       "      <td>True</td>\n",
       "      <td>0</td>\n",
       "      <td>568.89</td>\n",
       "      <td>33048.316687</td>\n",
       "      <td>0.0</td>\n",
       "    </tr>\n",
       "    <tr>\n",
       "      <th>3</th>\n",
       "      <td>2020-01-01</td>\n",
       "      <td>Apt004</td>\n",
       "      <td>apartamento</td>\n",
       "      <td>39</td>\n",
       "      <td>572.01</td>\n",
       "      <td>True</td>\n",
       "      <td>0</td>\n",
       "      <td>572.01</td>\n",
       "      <td>33048.316687</td>\n",
       "      <td>0.0</td>\n",
       "    </tr>\n",
       "    <tr>\n",
       "      <th>4</th>\n",
       "      <td>2020-01-01</td>\n",
       "      <td>Apt005</td>\n",
       "      <td>apartamento</td>\n",
       "      <td>39</td>\n",
       "      <td>575.91</td>\n",
       "      <td>False</td>\n",
       "      <td>30</td>\n",
       "      <td>243.17</td>\n",
       "      <td>33048.316687</td>\n",
       "      <td>0.0</td>\n",
       "    </tr>\n",
       "  </tbody>\n",
       "</table>\n",
       "</div>"
      ],
      "text/plain": [
       "         data unidade_id tipo_unidade  metragem  valor_cota  pagou  \\\n",
       "0  2020-01-01     Apt001  apartamento        39      556.45   True   \n",
       "1  2020-01-01     Apt002  apartamento        55      619.22   True   \n",
       "2  2020-01-01     Apt003  apartamento        39      568.89   True   \n",
       "3  2020-01-01     Apt004  apartamento        39      572.01   True   \n",
       "4  2020-01-01     Apt005  apartamento        39      575.91  False   \n",
       "\n",
       "   dias_atraso  valor_pago  despesa_total  obra_extraordinaria  \n",
       "0            0      556.45   33048.316687                  0.0  \n",
       "1            0      619.22   33048.316687                  0.0  \n",
       "2            0      568.89   33048.316687                  0.0  \n",
       "3            0      572.01   33048.316687                  0.0  \n",
       "4           30      243.17   33048.316687                  0.0  "
      ]
     },
     "execution_count": 33,
     "metadata": {},
     "output_type": "execute_result"
    }
   ],
   "source": [
    "predio = pd.read_csv(\"condominio.csv\")\n",
    "predio.head(5)"
   ]
  },
  {
   "cell_type": "code",
   "execution_count": 20,
   "id": "329fa36f",
   "metadata": {},
   "outputs": [
    {
     "data": {
      "text/plain": [
       "Index(['data', 'unidade_id', 'tipo_unidade', 'metragem', 'valor_cota', 'pagou',\n",
       "       'dias_atraso', 'valor_pago', 'despesa_total', 'obra_extraordinaria'],\n",
       "      dtype='object')"
      ]
     },
     "execution_count": 20,
     "metadata": {},
     "output_type": "execute_result"
    }
   ],
   "source": [
    "#identificando colunas possíveis index\n",
    "predio.columns"
   ]
  },
  {
   "cell_type": "code",
   "execution_count": 7,
   "id": "c4f8c031",
   "metadata": {},
   "outputs": [
    {
     "name": "stdout",
     "output_type": "stream",
     "text": [
      "<class 'pandas.core.frame.DataFrame'>\n",
      "RangeIndex: 20460 entries, 0 to 20459\n",
      "Data columns (total 10 columns):\n",
      " #   Column               Non-Null Count  Dtype  \n",
      "---  ------               --------------  -----  \n",
      " 0   data                 20460 non-null  object \n",
      " 1   unidade_id           20460 non-null  object \n",
      " 2   tipo_unidade         20460 non-null  object \n",
      " 3   metragem             20460 non-null  int64  \n",
      " 4   valor_cota           20460 non-null  float64\n",
      " 5   pagou                20460 non-null  bool   \n",
      " 6   dias_atraso          20460 non-null  int64  \n",
      " 7   valor_pago           20460 non-null  float64\n",
      " 8   despesa_total        20460 non-null  float64\n",
      " 9   obra_extraordinaria  20460 non-null  float64\n",
      "dtypes: bool(1), float64(4), int64(2), object(3)\n",
      "memory usage: 1.4+ MB\n"
     ]
    }
   ],
   "source": [
    "predio.info()"
   ]
  },
  {
   "cell_type": "code",
   "execution_count": 19,
   "id": "4896ea78",
   "metadata": {},
   "outputs": [
    {
     "data": {
      "text/plain": [
       "(20460, 10)"
      ]
     },
     "execution_count": 19,
     "metadata": {},
     "output_type": "execute_result"
    }
   ],
   "source": [
    "#tamanho do dataset condominio\n",
    "predio.shape"
   ]
  },
  {
   "cell_type": "code",
   "execution_count": 18,
   "id": "76aa3957",
   "metadata": {},
   "outputs": [
    {
     "data": {
      "application/vnd.microsoft.datawrangler.viewer.v0+json": {
       "columns": [
        {
         "name": "index",
         "rawType": "object",
         "type": "string"
        },
        {
         "name": "metragem",
         "rawType": "float64",
         "type": "float"
        },
        {
         "name": "valor_cota",
         "rawType": "float64",
         "type": "float"
        },
        {
         "name": "dias_atraso",
         "rawType": "float64",
         "type": "float"
        },
        {
         "name": "valor_pago",
         "rawType": "float64",
         "type": "float"
        },
        {
         "name": "despesa_total",
         "rawType": "float64",
         "type": "float"
        },
        {
         "name": "obra_extraordinaria",
         "rawType": "float64",
         "type": "float"
        }
       ],
       "ref": "e7770155-ad45-4cc5-85f6-f849723c5e12",
       "rows": [
        [
         "count",
         "20460.0",
         "20460.0",
         "20460.0",
         "20460.0",
         "20460.0",
         "20460.0"
        ],
        [
         "mean",
         "40.26392961876833",
         "592.7413553274682",
         "2.828054740957967",
         "574.635664222874",
         "34636.46892599944",
         "5126.965995875402"
        ],
        [
         "std",
         "6.575741209558682",
         "143.8368405982824",
         "10.192461186883467",
         "153.70335336903716",
         "5778.774351746361",
         "11315.212578956509"
        ],
        [
         "min",
         "20.0",
         "464.1",
         "0.0",
         "194.97",
         "25553.99870167785",
         "0.0"
        ],
        [
         "25%",
         "39.0",
         "513.3675000000001",
         "0.0",
         "504.3325",
         "29234.4714987345",
         "0.0"
        ],
        [
         "50%",
         "39.0",
         "547.67",
         "0.0",
         "541.98",
         "35187.25158070368",
         "0.0"
        ],
        [
         "75%",
         "39.0",
         "583.455",
         "0.0",
         "581.0325",
         "39099.060889481865",
         "0.0"
        ],
        [
         "max",
         "60.0",
         "1099.77",
         "60.0",
         "1099.77",
         "44714.36442316724",
         "36955.394563982896"
        ]
       ],
       "shape": {
        "columns": 6,
        "rows": 8
       }
      },
      "text/html": [
       "<div>\n",
       "<style scoped>\n",
       "    .dataframe tbody tr th:only-of-type {\n",
       "        vertical-align: middle;\n",
       "    }\n",
       "\n",
       "    .dataframe tbody tr th {\n",
       "        vertical-align: top;\n",
       "    }\n",
       "\n",
       "    .dataframe thead th {\n",
       "        text-align: right;\n",
       "    }\n",
       "</style>\n",
       "<table border=\"1\" class=\"dataframe\">\n",
       "  <thead>\n",
       "    <tr style=\"text-align: right;\">\n",
       "      <th></th>\n",
       "      <th>metragem</th>\n",
       "      <th>valor_cota</th>\n",
       "      <th>dias_atraso</th>\n",
       "      <th>valor_pago</th>\n",
       "      <th>despesa_total</th>\n",
       "      <th>obra_extraordinaria</th>\n",
       "    </tr>\n",
       "  </thead>\n",
       "  <tbody>\n",
       "    <tr>\n",
       "      <th>count</th>\n",
       "      <td>20460.000000</td>\n",
       "      <td>20460.000000</td>\n",
       "      <td>20460.000000</td>\n",
       "      <td>20460.000000</td>\n",
       "      <td>20460.000000</td>\n",
       "      <td>20460.000000</td>\n",
       "    </tr>\n",
       "    <tr>\n",
       "      <th>mean</th>\n",
       "      <td>40.263930</td>\n",
       "      <td>592.741355</td>\n",
       "      <td>2.828055</td>\n",
       "      <td>574.635664</td>\n",
       "      <td>34636.468926</td>\n",
       "      <td>5126.965996</td>\n",
       "    </tr>\n",
       "    <tr>\n",
       "      <th>std</th>\n",
       "      <td>6.575741</td>\n",
       "      <td>143.836841</td>\n",
       "      <td>10.192461</td>\n",
       "      <td>153.703353</td>\n",
       "      <td>5778.774352</td>\n",
       "      <td>11315.212579</td>\n",
       "    </tr>\n",
       "    <tr>\n",
       "      <th>min</th>\n",
       "      <td>20.000000</td>\n",
       "      <td>464.100000</td>\n",
       "      <td>0.000000</td>\n",
       "      <td>194.970000</td>\n",
       "      <td>25553.998702</td>\n",
       "      <td>0.000000</td>\n",
       "    </tr>\n",
       "    <tr>\n",
       "      <th>25%</th>\n",
       "      <td>39.000000</td>\n",
       "      <td>513.367500</td>\n",
       "      <td>0.000000</td>\n",
       "      <td>504.332500</td>\n",
       "      <td>29234.471499</td>\n",
       "      <td>0.000000</td>\n",
       "    </tr>\n",
       "    <tr>\n",
       "      <th>50%</th>\n",
       "      <td>39.000000</td>\n",
       "      <td>547.670000</td>\n",
       "      <td>0.000000</td>\n",
       "      <td>541.980000</td>\n",
       "      <td>35187.251581</td>\n",
       "      <td>0.000000</td>\n",
       "    </tr>\n",
       "    <tr>\n",
       "      <th>75%</th>\n",
       "      <td>39.000000</td>\n",
       "      <td>583.455000</td>\n",
       "      <td>0.000000</td>\n",
       "      <td>581.032500</td>\n",
       "      <td>39099.060889</td>\n",
       "      <td>0.000000</td>\n",
       "    </tr>\n",
       "    <tr>\n",
       "      <th>max</th>\n",
       "      <td>60.000000</td>\n",
       "      <td>1099.770000</td>\n",
       "      <td>60.000000</td>\n",
       "      <td>1099.770000</td>\n",
       "      <td>44714.364423</td>\n",
       "      <td>36955.394564</td>\n",
       "    </tr>\n",
       "  </tbody>\n",
       "</table>\n",
       "</div>"
      ],
      "text/plain": [
       "           metragem    valor_cota   dias_atraso    valor_pago  despesa_total  \\\n",
       "count  20460.000000  20460.000000  20460.000000  20460.000000   20460.000000   \n",
       "mean      40.263930    592.741355      2.828055    574.635664   34636.468926   \n",
       "std        6.575741    143.836841     10.192461    153.703353    5778.774352   \n",
       "min       20.000000    464.100000      0.000000    194.970000   25553.998702   \n",
       "25%       39.000000    513.367500      0.000000    504.332500   29234.471499   \n",
       "50%       39.000000    547.670000      0.000000    541.980000   35187.251581   \n",
       "75%       39.000000    583.455000      0.000000    581.032500   39099.060889   \n",
       "max       60.000000   1099.770000     60.000000   1099.770000   44714.364423   \n",
       "\n",
       "       obra_extraordinaria  \n",
       "count         20460.000000  \n",
       "mean           5126.965996  \n",
       "std           11315.212579  \n",
       "min               0.000000  \n",
       "25%               0.000000  \n",
       "50%               0.000000  \n",
       "75%               0.000000  \n",
       "max           36955.394564  "
      ]
     },
     "execution_count": 18,
     "metadata": {},
     "output_type": "execute_result"
    }
   ],
   "source": [
    "## descrição estatística basica das variaveis numéricas \n",
    "predio.describe()"
   ]
  },
  {
   "cell_type": "code",
   "execution_count": 37,
   "id": "c6134b94",
   "metadata": {},
   "outputs": [
    {
     "data": {
      "application/vnd.microsoft.datawrangler.viewer.v0+json": {
       "columns": [
        {
         "name": "index",
         "rawType": "object",
         "type": "string"
        },
        {
         "name": "0",
         "rawType": "int64",
         "type": "integer"
        }
       ],
       "ref": "f22c7a13-c125-4b6f-abcf-4b347c4a6b32",
       "rows": [
        [
         "data",
         "0"
        ],
        [
         "unidade_id",
         "0"
        ],
        [
         "tipo_unidade",
         "0"
        ],
        [
         "metragem",
         "0"
        ],
        [
         "valor_cota",
         "0"
        ],
        [
         "pagou",
         "0"
        ],
        [
         "dias_atraso",
         "0"
        ],
        [
         "valor_pago",
         "0"
        ],
        [
         "despesa_total",
         "0"
        ],
        [
         "obra_extraordinaria",
         "0"
        ]
       ],
       "shape": {
        "columns": 1,
        "rows": 10
       }
      },
      "text/plain": [
       "data                   0\n",
       "unidade_id             0\n",
       "tipo_unidade           0\n",
       "metragem               0\n",
       "valor_cota             0\n",
       "pagou                  0\n",
       "dias_atraso            0\n",
       "valor_pago             0\n",
       "despesa_total          0\n",
       "obra_extraordinaria    0\n",
       "dtype: int64"
      ]
     },
     "execution_count": 37,
     "metadata": {},
     "output_type": "execute_result"
    }
   ],
   "source": [
    "## verificando se existem valores nulos\n",
    "predio.isnull().sum()\n"
   ]
  },
  {
   "cell_type": "code",
   "execution_count": 22,
   "id": "0e12f42a",
   "metadata": {},
   "outputs": [
    {
     "data": {
      "application/vnd.microsoft.datawrangler.viewer.v0+json": {
       "columns": [
        {
         "name": "index",
         "rawType": "int64",
         "type": "integer"
        },
        {
         "name": "data",
         "rawType": "object",
         "type": "string"
        },
        {
         "name": "unidade_id",
         "rawType": "object",
         "type": "string"
        },
        {
         "name": "tipo_unidade",
         "rawType": "object",
         "type": "string"
        },
        {
         "name": "metragem",
         "rawType": "int64",
         "type": "integer"
        },
        {
         "name": "valor_cota",
         "rawType": "float64",
         "type": "float"
        },
        {
         "name": "pagou",
         "rawType": "bool",
         "type": "boolean"
        },
        {
         "name": "dias_atraso",
         "rawType": "int64",
         "type": "integer"
        },
        {
         "name": "valor_pago",
         "rawType": "float64",
         "type": "float"
        },
        {
         "name": "despesa_total",
         "rawType": "float64",
         "type": "float"
        },
        {
         "name": "obra_extraordinaria",
         "rawType": "float64",
         "type": "float"
        }
       ],
       "ref": "52ee87bd-214d-4824-8a18-3b55080e753a",
       "rows": [
        [
         "0",
         "2020-01-01",
         "Apt001",
         "apartamento",
         "39",
         "556.45",
         "True",
         "0",
         "556.45",
         "33048.31668725768",
         "0.0"
        ]
       ],
       "shape": {
        "columns": 10,
        "rows": 1
       }
      },
      "text/html": [
       "<div>\n",
       "<style scoped>\n",
       "    .dataframe tbody tr th:only-of-type {\n",
       "        vertical-align: middle;\n",
       "    }\n",
       "\n",
       "    .dataframe tbody tr th {\n",
       "        vertical-align: top;\n",
       "    }\n",
       "\n",
       "    .dataframe thead th {\n",
       "        text-align: right;\n",
       "    }\n",
       "</style>\n",
       "<table border=\"1\" class=\"dataframe\">\n",
       "  <thead>\n",
       "    <tr style=\"text-align: right;\">\n",
       "      <th></th>\n",
       "      <th>data</th>\n",
       "      <th>unidade_id</th>\n",
       "      <th>tipo_unidade</th>\n",
       "      <th>metragem</th>\n",
       "      <th>valor_cota</th>\n",
       "      <th>pagou</th>\n",
       "      <th>dias_atraso</th>\n",
       "      <th>valor_pago</th>\n",
       "      <th>despesa_total</th>\n",
       "      <th>obra_extraordinaria</th>\n",
       "    </tr>\n",
       "  </thead>\n",
       "  <tbody>\n",
       "    <tr>\n",
       "      <th>0</th>\n",
       "      <td>2020-01-01</td>\n",
       "      <td>Apt001</td>\n",
       "      <td>apartamento</td>\n",
       "      <td>39</td>\n",
       "      <td>556.45</td>\n",
       "      <td>True</td>\n",
       "      <td>0</td>\n",
       "      <td>556.45</td>\n",
       "      <td>33048.316687</td>\n",
       "      <td>0.0</td>\n",
       "    </tr>\n",
       "  </tbody>\n",
       "</table>\n",
       "</div>"
      ],
      "text/plain": [
       "         data unidade_id tipo_unidade  metragem  valor_cota  pagou  \\\n",
       "0  2020-01-01     Apt001  apartamento        39      556.45   True   \n",
       "\n",
       "   dias_atraso  valor_pago  despesa_total  obra_extraordinaria  \n",
       "0            0      556.45   33048.316687                  0.0  "
      ]
     },
     "execution_count": 22,
     "metadata": {},
     "output_type": "execute_result"
    }
   ],
   "source": [
    "predio.head(1)"
   ]
  },
  {
   "cell_type": "code",
   "execution_count": 32,
   "id": "f91659ea",
   "metadata": {},
   "outputs": [
    {
     "data": {
      "text/plain": [
       "array(['apartamento', 'loja'], dtype=object)"
      ]
     },
     "execution_count": 32,
     "metadata": {},
     "output_type": "execute_result"
    }
   ],
   "source": [
    "## quantos tipos de unidades existem no predio\n",
    "predio['tipo_unidade'].unique()"
   ]
  },
  {
   "cell_type": "code",
   "execution_count": 23,
   "id": "4a87cb8c",
   "metadata": {},
   "outputs": [
    {
     "data": {
      "application/vnd.microsoft.datawrangler.viewer.v0+json": {
       "columns": [
        {
         "name": "index",
         "rawType": "object",
         "type": "string"
        },
        {
         "name": "0",
         "rawType": "object",
         "type": "unknown"
        }
       ],
       "ref": "53e0343a-0e97-4913-999b-cefdfc6bd794",
       "rows": [
        [
         "data",
         "object"
        ],
        [
         "unidade_id",
         "object"
        ],
        [
         "tipo_unidade",
         "object"
        ],
        [
         "metragem",
         "int64"
        ],
        [
         "valor_cota",
         "float64"
        ],
        [
         "pagou",
         "bool"
        ],
        [
         "dias_atraso",
         "int64"
        ],
        [
         "valor_pago",
         "float64"
        ],
        [
         "despesa_total",
         "float64"
        ],
        [
         "obra_extraordinaria",
         "float64"
        ]
       ],
       "shape": {
        "columns": 1,
        "rows": 10
       }
      },
      "text/plain": [
       "data                    object\n",
       "unidade_id              object\n",
       "tipo_unidade            object\n",
       "metragem                 int64\n",
       "valor_cota             float64\n",
       "pagou                     bool\n",
       "dias_atraso              int64\n",
       "valor_pago             float64\n",
       "despesa_total          float64\n",
       "obra_extraordinaria    float64\n",
       "dtype: object"
      ]
     },
     "execution_count": 23,
     "metadata": {},
     "output_type": "execute_result"
    }
   ],
   "source": [
    "#### Verificando os tipos de dados\n",
    "predio.dtypes"
   ]
  },
  {
   "cell_type": "code",
   "execution_count": 35,
   "id": "4020cc1c",
   "metadata": {},
   "outputs": [
    {
     "name": "stdout",
     "output_type": "stream",
     "text": [
      "Quantidade de registros: 20460\n",
      "Quantidade de unidades: 341\n",
      "Periodo dos dados: 2020-01-01 00:00:00 a 2024-12-01 00:00:00\n"
     ]
    }
   ],
   "source": [
    "\n",
    "print(f'Quantidade de registros: {predio.shape[0]}')\n",
    "print(f'Quantidade de unidades: {predio[\"unidade_id\"].nunique()}')\n",
    "print(f'Periodo dos dados: {pd.to_datetime(predio[\"data\"]).min()} a {pd.to_datetime(predio[\"data\"]).max()}')\n"
   ]
  },
  {
   "cell_type": "code",
   "execution_count": 42,
   "id": "fa3f4167",
   "metadata": {},
   "outputs": [
    {
     "data": {
      "application/vnd.microsoft.datawrangler.viewer.v0+json": {
       "columns": [
        {
         "name": "tipo_unidade",
         "rawType": "object",
         "type": "string"
        },
        {
         "name": "pagou",
         "rawType": "float64",
         "type": "float"
        }
       ],
       "ref": "67fbcf27-15e6-410f-8258-eef905fe8392",
       "rows": [
        [
         "apartamento",
         "0.906341189674523"
        ],
        [
         "loja",
         "0.9049242424242424"
        ]
       ],
       "shape": {
        "columns": 1,
        "rows": 2
       }
      },
      "text/plain": [
       "tipo_unidade\n",
       "apartamento    0.906341\n",
       "loja           0.904924\n",
       "Name: pagou, dtype: float64"
      ]
     },
     "execution_count": 42,
     "metadata": {},
     "output_type": "execute_result"
    }
   ],
   "source": [
    "### entendendo a inadimplencia\n",
    "predio['pagou'].mean\n",
    "predio.groupby(\"tipo_unidade\")[\"pagou\"].mean()"
   ]
  },
  {
   "cell_type": "code",
   "execution_count": 78,
   "id": "22cb92f5",
   "metadata": {},
   "outputs": [
    {
     "data": {
      "application/vnd.microsoft.datawrangler.viewer.v0+json": {
       "columns": [
        {
         "name": "unidade_id",
         "rawType": "object",
         "type": "string"
        },
        {
         "name": "pagou",
         "rawType": "float64",
         "type": "float"
        }
       ],
       "ref": "c5eac375-84a8-4488-924b-df13ccadb917",
       "rows": [
        [
         "Apt005",
         "0.13333333333333333"
        ],
        [
         "Apt022",
         "0.1"
        ],
        [
         "Apt050",
         "0.18333333333333332"
        ],
        [
         "Apt056",
         "0.2833333333333333"
        ],
        [
         "Apt063",
         "0.03333333333333333"
        ],
        [
         "Apt079",
         "0.16666666666666666"
        ],
        [
         "Apt098",
         "0.11666666666666667"
        ],
        [
         "Apt101",
         "0.13333333333333333"
        ],
        [
         "Apt103",
         "0.08333333333333333"
        ],
        [
         "Apt133",
         "0.2"
        ],
        [
         "Apt150",
         "0.16666666666666666"
        ],
        [
         "Apt215",
         "0.15"
        ],
        [
         "Apt216",
         "0.23333333333333334"
        ],
        [
         "Apt230",
         "0.23333333333333334"
        ],
        [
         "Apt237",
         "0.08333333333333333"
        ],
        [
         "Apt241",
         "0.08333333333333333"
        ],
        [
         "Apt251",
         "0.16666666666666666"
        ],
        [
         "Apt277",
         "0.15"
        ],
        [
         "Apt284",
         "0.13333333333333333"
        ],
        [
         "Apt285",
         "0.11666666666666667"
        ],
        [
         "Loja009",
         "0.13333333333333333"
        ],
        [
         "Loja024",
         "0.18333333333333332"
        ],
        [
         "Loja028",
         "0.15"
        ]
       ],
       "shape": {
        "columns": 1,
        "rows": 23
       }
      },
      "text/plain": [
       "unidade_id\n",
       "Apt005     0.133333\n",
       "Apt022     0.100000\n",
       "Apt050     0.183333\n",
       "Apt056     0.283333\n",
       "Apt063     0.033333\n",
       "Apt079     0.166667\n",
       "Apt098     0.116667\n",
       "Apt101     0.133333\n",
       "Apt103     0.083333\n",
       "Apt133     0.200000\n",
       "Apt150     0.166667\n",
       "Apt215     0.150000\n",
       "Apt216     0.233333\n",
       "Apt230     0.233333\n",
       "Apt237     0.083333\n",
       "Apt241     0.083333\n",
       "Apt251     0.166667\n",
       "Apt277     0.150000\n",
       "Apt284     0.133333\n",
       "Apt285     0.116667\n",
       "Loja009    0.133333\n",
       "Loja024    0.183333\n",
       "Loja028    0.150000\n",
       "Name: pagou, dtype: float64"
      ]
     },
     "execution_count": 78,
     "metadata": {},
     "output_type": "execute_result"
    }
   ],
   "source": [
    "### mostrando somente os inadimplentes \n",
    "\n",
    "\n",
    "inadimplencia = predio.groupby(\"unidade_id\")[\"pagou\"].mean()\n",
    "inadimplentes_costumazes = inadimplencia[inadimplencia < 0.7]\n",
    "\n",
    "inadimplentes_costumazes\n",
    "\n"
   ]
  },
  {
   "cell_type": "code",
   "execution_count": null,
   "id": "34b1f935",
   "metadata": {},
   "outputs": [
    {
     "data": {
      "text/plain": [
       "<Axes: xlabel='ano_mes'>"
      ]
     },
     "execution_count": 80,
     "metadata": {},
     "output_type": "execute_result"
    },
    {
     "data": {
      "image/png": "[encoded data removed]",
      "text/plain": [
       "<Figure size 640x480 with 1 Axes>"
      ]
     },
     "metadata": {},
     "output_type": "display_data"
    }
   ],
   "source": [
    "'ano_mes\"] = pd.to_datetime(df[\"data\"])\n",
    "df.groupby(\"ano_mes\")[[\"valor_pago\", \"despesa_total\"]].sum().plot()\n",
    "\n",
    "\n",
    "\n"
   ]
  }
 ],
 "metadata": {
  "kernelspec": {
   "display_name": "env",
   "language": "python",
   "name": "python3"
  },
  "language_info": {
   "codemirror_mode": {
    "name": "ipython",
    "version": 3
   },
   "file_extension": ".py",
   "mimetype": "text/x-python",
   "name": "python",
   "nbconvert_exporter": "python",
   "pygments_lexer": "ipython3",
   "version": "3.13.3"
  }
 },
 "nbformat": 4,
 "nbformat_minor": 5
}
